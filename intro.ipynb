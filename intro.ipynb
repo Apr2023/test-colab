{
  "nbformat": 4,
  "nbformat_minor": 0,
  "metadata": {
    "colab": {
      "provenance": [],
      "authorship_tag": "ABX9TyMsEX6pLbla1oAvX3kW8QEO",
      "include_colab_link": true
    },
    "kernelspec": {
      "name": "python3",
      "display_name": "Python 3"
    },
    "language_info": {
      "name": "python"
    }
  },
  "cells": [
    {
      "cell_type": "markdown",
      "metadata": {
        "id": "view-in-github",
        "colab_type": "text"
      },
      "source": [
        "<a href=\"https://colab.research.google.com/github/Apr2023/test-colab/blob/main/intro.ipynb\" target=\"_parent\"><img src=\"https://colab.research.google.com/assets/colab-badge.svg\" alt=\"Open In Colab\"/></a>"
      ]
    },
    {
      "cell_type": "code",
      "execution_count": null,
      "metadata": {
        "id": "-ihFm0uJhTyu",
        "outputId": "b643e4b6-1f8d-475d-ecbc-de4c5cff4e5d",
        "colab": {
          "base_uri": "https://localhost:8080/"
        }
      },
      "outputs": [
        {
          "output_type": "stream",
          "name": "stdout",
          "text": [
            "Hello world of Python\n"
          ]
        }
      ],
      "source": [
        "print('Hello world of Python')\n"
      ]
    },
    {
      "cell_type": "code",
      "source": [
        "import pandas as pd"
      ],
      "metadata": {
        "id": "ub_NNbSWviKK"
      },
      "execution_count": 1,
      "outputs": []
    },
    {
      "cell_type": "code",
      "source": [
        "list_actor = ['jaya bachan','amitab bachan','juhi chawla','kajol','salman khan']\n",
        "actor_age = [65,79,60,56,62]"
      ],
      "metadata": {
        "id": "4jNZG9fauzyx"
      },
      "execution_count": 3,
      "outputs": []
    },
    {
      "cell_type": "code",
      "source": [
        "pd.Series(actor_age,list_actor)"
      ],
      "metadata": {
        "colab": {
          "base_uri": "https://localhost:8080/"
        },
        "id": "9_zvBT4gvmed",
        "outputId": "3a337630-5447-4ae2-8529-8c48b59c952c"
      },
      "execution_count": 4,
      "outputs": [
        {
          "output_type": "execute_result",
          "data": {
            "text/plain": [
              "jaya bachan      65\n",
              "amitab bachan    79\n",
              "juhi chawla      60\n",
              "kajol            56\n",
              "salman khan      62\n",
              "dtype: int64"
            ]
          },
          "metadata": {},
          "execution_count": 4
        }
      ]
    },
    {
      "cell_type": "code",
      "source": [
        "actor_dicts = {'jaya bachan' : 65,\n",
        "               'amitab bachan' : 79,\n",
        "               'juhi chawla' : 60,\n",
        "               'kajol' : 56,\n",
        "               'salman khan': 62}\n",
        "            "
      ],
      "metadata": {
        "id": "ycL7M9GVv_Re"
      },
      "execution_count": 6,
      "outputs": []
    },
    {
      "cell_type": "code",
      "source": [
        "pd.Series(actor_dicts)\n"
      ],
      "metadata": {
        "colab": {
          "base_uri": "https://localhost:8080/"
        },
        "id": "inMoQyMlwnsh",
        "outputId": "2bdb24c1-b41d-4a74-b27a-641af77f1f6f"
      },
      "execution_count": 7,
      "outputs": [
        {
          "output_type": "execute_result",
          "data": {
            "text/plain": [
              "jaya bachan      65\n",
              "amitab bachan    79\n",
              "juhi chawla      60\n",
              "kajol            56\n",
              "salman khan      62\n",
              "dtype: int64"
            ]
          },
          "metadata": {},
          "execution_count": 7
        }
      ]
    },
    {
      "cell_type": "code",
      "source": [],
      "metadata": {
        "id": "NbMddi-XwhCP"
      },
      "execution_count": null,
      "outputs": []
    }
  ]
}